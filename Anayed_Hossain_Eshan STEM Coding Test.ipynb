{
 "cells": [
  {
   "cell_type": "code",
   "execution_count": 1,
   "id": "7e247b4d",
   "metadata": {},
   "outputs": [],
   "source": [
    "import pandas as pd\n",
    "import math\n",
    "import numpy as np\n",
    "import warnings\n",
    "warnings.filterwarnings(\"ignore\")"
   ]
  },
  {
   "cell_type": "code",
   "execution_count": 2,
   "id": "43c1dc88",
   "metadata": {},
   "outputs": [
    {
     "data": {
      "text/html": [
       "<div>\n",
       "<style scoped>\n",
       "    .dataframe tbody tr th:only-of-type {\n",
       "        vertical-align: middle;\n",
       "    }\n",
       "\n",
       "    .dataframe tbody tr th {\n",
       "        vertical-align: top;\n",
       "    }\n",
       "\n",
       "    .dataframe thead th {\n",
       "        text-align: right;\n",
       "    }\n",
       "</style>\n",
       "<table border=\"1\" class=\"dataframe\">\n",
       "  <thead>\n",
       "    <tr style=\"text-align: right;\">\n",
       "      <th></th>\n",
       "      <th>Report ID</th>\n",
       "      <th>Arrest Date</th>\n",
       "      <th>Time</th>\n",
       "      <th>Area ID</th>\n",
       "      <th>Area Name</th>\n",
       "      <th>Reporting District</th>\n",
       "      <th>Age</th>\n",
       "      <th>Sex Code</th>\n",
       "      <th>Descent Code</th>\n",
       "      <th>Charge Group Code</th>\n",
       "      <th>Charge Group Description</th>\n",
       "      <th>Arrest Type Code</th>\n",
       "      <th>Charge</th>\n",
       "      <th>Charge Description</th>\n",
       "      <th>Address</th>\n",
       "      <th>Cross Street</th>\n",
       "      <th>Location</th>\n",
       "    </tr>\n",
       "  </thead>\n",
       "  <tbody>\n",
       "    <tr>\n",
       "      <th>0</th>\n",
       "      <td>191811472</td>\n",
       "      <td>05/03/2019</td>\n",
       "      <td>1700.0</td>\n",
       "      <td>18</td>\n",
       "      <td>Southeast</td>\n",
       "      <td>1802</td>\n",
       "      <td>23</td>\n",
       "      <td>F</td>\n",
       "      <td>B</td>\n",
       "      <td>NaN</td>\n",
       "      <td>NaN</td>\n",
       "      <td>M</td>\n",
       "      <td>653.22 PC</td>\n",
       "      <td>NaN</td>\n",
       "      <td>91ST</td>\n",
       "      <td>FIGUEROA</td>\n",
       "      <td>(33.9543, -118.2827)</td>\n",
       "    </tr>\n",
       "    <tr>\n",
       "      <th>1</th>\n",
       "      <td>5614161</td>\n",
       "      <td>04/29/2019</td>\n",
       "      <td>1040.0</td>\n",
       "      <td>8</td>\n",
       "      <td>West LA</td>\n",
       "      <td>842</td>\n",
       "      <td>41</td>\n",
       "      <td>M</td>\n",
       "      <td>H</td>\n",
       "      <td>3.0</td>\n",
       "      <td>Robbery</td>\n",
       "      <td>F</td>\n",
       "      <td>211PC</td>\n",
       "      <td>ROBBERY</td>\n",
       "      <td>11600    WILSHIRE                     BL</td>\n",
       "      <td>NaN</td>\n",
       "      <td>(34.0508, -118.4592)</td>\n",
       "    </tr>\n",
       "    <tr>\n",
       "      <th>2</th>\n",
       "      <td>5615197</td>\n",
       "      <td>04/30/2019</td>\n",
       "      <td>615.0</td>\n",
       "      <td>6</td>\n",
       "      <td>Hollywood</td>\n",
       "      <td>663</td>\n",
       "      <td>27</td>\n",
       "      <td>M</td>\n",
       "      <td>O</td>\n",
       "      <td>5.0</td>\n",
       "      <td>Burglary</td>\n",
       "      <td>F</td>\n",
       "      <td>459PC</td>\n",
       "      <td>BURGLARY</td>\n",
       "      <td>LA BREA</td>\n",
       "      <td>LEXINGTON</td>\n",
       "      <td>(34.0907, -118.3384)</td>\n",
       "    </tr>\n",
       "    <tr>\n",
       "      <th>3</th>\n",
       "      <td>5615701</td>\n",
       "      <td>04/30/2019</td>\n",
       "      <td>1100.0</td>\n",
       "      <td>9</td>\n",
       "      <td>Van Nuys</td>\n",
       "      <td>901</td>\n",
       "      <td>2</td>\n",
       "      <td>F</td>\n",
       "      <td>H</td>\n",
       "      <td>NaN</td>\n",
       "      <td>NaN</td>\n",
       "      <td>D</td>\n",
       "      <td>300(B)WIC</td>\n",
       "      <td>NaN</td>\n",
       "      <td>RAYMER</td>\n",
       "      <td>SEPULVEDA                    BL</td>\n",
       "      <td>(34.2149, -118.4674)</td>\n",
       "    </tr>\n",
       "    <tr>\n",
       "      <th>4</th>\n",
       "      <td>5615929</td>\n",
       "      <td>04/30/2019</td>\n",
       "      <td>1550.0</td>\n",
       "      <td>20</td>\n",
       "      <td>Olympic</td>\n",
       "      <td>2049</td>\n",
       "      <td>41</td>\n",
       "      <td>M</td>\n",
       "      <td>W</td>\n",
       "      <td>4.0</td>\n",
       "      <td>Aggravated Assault</td>\n",
       "      <td>F</td>\n",
       "      <td>245(A)(2)PC</td>\n",
       "      <td>ADW W/FIREARM</td>\n",
       "      <td>8TH                          ST</td>\n",
       "      <td>VERMONT</td>\n",
       "      <td>(34.0578, -118.2916)</td>\n",
       "    </tr>\n",
       "  </tbody>\n",
       "</table>\n",
       "</div>"
      ],
      "text/plain": [
       "   Report ID Arrest Date    Time  Area ID  Area Name  Reporting District  Age  \\\n",
       "0  191811472  05/03/2019  1700.0       18  Southeast                1802   23   \n",
       "1    5614161  04/29/2019  1040.0        8    West LA                 842   41   \n",
       "2    5615197  04/30/2019   615.0        6  Hollywood                 663   27   \n",
       "3    5615701  04/30/2019  1100.0        9   Van Nuys                 901    2   \n",
       "4    5615929  04/30/2019  1550.0       20    Olympic                2049   41   \n",
       "\n",
       "  Sex Code Descent Code  Charge Group Code Charge Group Description  \\\n",
       "0        F            B                NaN                      NaN   \n",
       "1        M            H                3.0                  Robbery   \n",
       "2        M            O                5.0                 Burglary   \n",
       "3        F            H                NaN                      NaN   \n",
       "4        M            W                4.0       Aggravated Assault   \n",
       "\n",
       "  Arrest Type Code       Charge Charge Description  \\\n",
       "0                M    653.22 PC                NaN   \n",
       "1                F        211PC            ROBBERY   \n",
       "2                F        459PC           BURGLARY   \n",
       "3                D    300(B)WIC                NaN   \n",
       "4                F  245(A)(2)PC      ADW W/FIREARM   \n",
       "\n",
       "                                    Address                     Cross Street  \\\n",
       "0                                      91ST                         FIGUEROA   \n",
       "1  11600    WILSHIRE                     BL                              NaN   \n",
       "2                                   LA BREA                        LEXINGTON   \n",
       "3                                    RAYMER  SEPULVEDA                    BL   \n",
       "4           8TH                          ST                          VERMONT   \n",
       "\n",
       "               Location  \n",
       "0  (33.9543, -118.2827)  \n",
       "1  (34.0508, -118.4592)  \n",
       "2  (34.0907, -118.3384)  \n",
       "3  (34.2149, -118.4674)  \n",
       "4  (34.0578, -118.2916)  "
      ]
     },
     "execution_count": 2,
     "metadata": {},
     "output_type": "execute_result"
    }
   ],
   "source": [
    "dataset = pd.read_csv(\"Arrest_Data_from_2010_to_2019.csv\")\n",
    "dataset.head()"
   ]
  },
  {
   "cell_type": "code",
   "execution_count": 3,
   "id": "3c2694bc",
   "metadata": {},
   "outputs": [
    {
     "data": {
      "text/plain": [
       "618537"
      ]
     },
     "execution_count": 3,
     "metadata": {},
     "output_type": "execute_result"
    }
   ],
   "source": [
    "len(dataset[dataset.isna().any(axis=1)])"
   ]
  },
  {
   "cell_type": "code",
   "execution_count": null,
   "id": "c6762875",
   "metadata": {},
   "outputs": [],
   "source": []
  },
  {
   "cell_type": "code",
   "execution_count": 4,
   "id": "45e1b0c7",
   "metadata": {},
   "outputs": [
    {
     "data": {
      "text/plain": [
       "Index(['Report ID', 'Arrest Date', 'Time', 'Area ID', 'Area Name',\n",
       "       'Reporting District', 'Age', 'Sex Code', 'Descent Code',\n",
       "       'Charge Group Code', 'Charge Group Description', 'Arrest Type Code',\n",
       "       'Charge', 'Charge Description', 'Address', 'Cross Street', 'Location'],\n",
       "      dtype='object')"
      ]
     },
     "execution_count": 4,
     "metadata": {},
     "output_type": "execute_result"
    }
   ],
   "source": [
    "dataset.columns"
   ]
  },
  {
   "cell_type": "code",
   "execution_count": 5,
   "id": "8ce73507",
   "metadata": {},
   "outputs": [
    {
     "data": {
      "text/plain": [
       "Report ID                        0\n",
       "Arrest Date                      0\n",
       "Time                           195\n",
       "Area ID                          0\n",
       "Area Name                        0\n",
       "Reporting District               0\n",
       "Age                              0\n",
       "Sex Code                         0\n",
       "Descent Code                     0\n",
       "Charge Group Code            88029\n",
       "Charge Group Description     88550\n",
       "Arrest Type Code                 0\n",
       "Charge                           0\n",
       "Charge Description           87987\n",
       "Address                          0\n",
       "Cross Street                562466\n",
       "Location                         0\n",
       "dtype: int64"
      ]
     },
     "execution_count": 5,
     "metadata": {},
     "output_type": "execute_result"
    }
   ],
   "source": [
    "dataset.isna().sum()"
   ]
  },
  {
   "cell_type": "code",
   "execution_count": 6,
   "id": "8b908464",
   "metadata": {},
   "outputs": [],
   "source": [
    "dataset[['LAT', 'LONG']] = dataset['Location'].str.strip('()').str.split(', ', expand=True)\n",
    "dataset['LAT'] = dataset['LAT'].astype(float)\n",
    "dataset['LONG'] = dataset['LONG'].astype(float)"
   ]
  },
  {
   "cell_type": "code",
   "execution_count": 7,
   "id": "30afa786",
   "metadata": {},
   "outputs": [],
   "source": [
    "dataset['Arrest Date'] = pd.to_datetime(dataset['Arrest Date'])"
   ]
  },
  {
   "cell_type": "markdown",
   "id": "13be288e",
   "metadata": {},
   "source": [
    "### Q1"
   ]
  },
  {
   "cell_type": "code",
   "execution_count": 8,
   "id": "a038c532",
   "metadata": {},
   "outputs": [
    {
     "data": {
      "text/plain": [
       "104277"
      ]
     },
     "execution_count": 8,
     "metadata": {},
     "output_type": "execute_result"
    }
   ],
   "source": [
    "arrested_2018 = dataset[(dataset['Arrest Date'] >= '2018-01-01') & (dataset['Arrest Date'] <= '2018-12-31')]\n",
    "len(arrested_2018)"
   ]
  },
  {
   "cell_type": "markdown",
   "id": "08729a8d",
   "metadata": {},
   "source": [
    "### Q2"
   ]
  },
  {
   "cell_type": "code",
   "execution_count": 96,
   "id": "a982da91",
   "metadata": {},
   "outputs": [
    {
     "name": "stdout",
     "output_type": "stream",
     "text": [
      "Central: 10951\n"
     ]
    }
   ],
   "source": [
    "print(f\"{arrested_2018['Area Name'].value_counts().idxmax()}: {arrested_2018['Area Name'].value_counts().max()}\")"
   ]
  },
  {
   "cell_type": "markdown",
   "id": "b3047595",
   "metadata": {},
   "source": [
    "### Q3"
   ]
  },
  {
   "cell_type": "code",
   "execution_count": 10,
   "id": "761c96be",
   "metadata": {},
   "outputs": [
    {
     "data": {
      "text/plain": [
       "array(['Fraud/Embezzlement', 'Homicide', 'Narcotic Drug Laws',\n",
       "       'Weapon (carry/poss)', 'Other Assaults',\n",
       "       'Miscellaneous Other Violations', 'Vehicle Theft',\n",
       "       'Aggravated Assault', 'Driving Under Influence', 'Robbery',\n",
       "       'Burglary', 'Against Family/Child', 'Moving Traffic Violations',\n",
       "       'Larceny', 'Forgery/Counterfeit', 'Receive Stolen Property',\n",
       "       'Sex (except rape/prst)', 'Prostitution/Allied', 'Liquor Laws',\n",
       "       'Drunkeness', 'Rape', 'Disturbing the Peace',\n",
       "       'Non-Criminal Detention', nan, 'Disorderly Conduct', 'Gambling',\n",
       "       'Pre-Delinquency', 'Federal Offenses'], dtype=object)"
      ]
     },
     "execution_count": 10,
     "metadata": {},
     "output_type": "execute_result"
    }
   ],
   "source": [
    "arrested_2018['Charge Group Description'].unique()"
   ]
  },
  {
   "cell_type": "code",
   "execution_count": 60,
   "id": "c7bc9666",
   "metadata": {},
   "outputs": [
    {
     "data": {
      "text/html": [
       "<div>\n",
       "<style scoped>\n",
       "    .dataframe tbody tr th:only-of-type {\n",
       "        vertical-align: middle;\n",
       "    }\n",
       "\n",
       "    .dataframe tbody tr th {\n",
       "        vertical-align: top;\n",
       "    }\n",
       "\n",
       "    .dataframe thead th {\n",
       "        text-align: right;\n",
       "    }\n",
       "</style>\n",
       "<table border=\"1\" class=\"dataframe\">\n",
       "  <thead>\n",
       "    <tr style=\"text-align: right;\">\n",
       "      <th></th>\n",
       "      <th>Report ID</th>\n",
       "      <th>Arrest Date</th>\n",
       "      <th>Time</th>\n",
       "      <th>Area ID</th>\n",
       "      <th>Area Name</th>\n",
       "      <th>Reporting District</th>\n",
       "      <th>Age</th>\n",
       "      <th>Sex Code</th>\n",
       "      <th>Descent Code</th>\n",
       "      <th>Charge Group Code</th>\n",
       "      <th>Charge Group Description</th>\n",
       "      <th>Arrest Type Code</th>\n",
       "      <th>Charge</th>\n",
       "      <th>Charge Description</th>\n",
       "      <th>Address</th>\n",
       "      <th>Cross Street</th>\n",
       "      <th>Location</th>\n",
       "      <th>LAT</th>\n",
       "      <th>LONG</th>\n",
       "    </tr>\n",
       "  </thead>\n",
       "  <tbody>\n",
       "    <tr>\n",
       "      <th>167</th>\n",
       "      <td>5449454</td>\n",
       "      <td>2018-10-15</td>\n",
       "      <td>2330.0</td>\n",
       "      <td>1</td>\n",
       "      <td>Central</td>\n",
       "      <td>157</td>\n",
       "      <td>43</td>\n",
       "      <td>M</td>\n",
       "      <td>H</td>\n",
       "      <td>7.0</td>\n",
       "      <td>Vehicle Theft</td>\n",
       "      <td>F</td>\n",
       "      <td>10851(A)VC</td>\n",
       "      <td>TAKE VEHICLE W/O OWNER'S CONSENT</td>\n",
       "      <td>SPRING</td>\n",
       "      <td>5TH</td>\n",
       "      <td>(34.0416, -118.244)</td>\n",
       "      <td>34.0416</td>\n",
       "      <td>-118.2440</td>\n",
       "    </tr>\n",
       "    <tr>\n",
       "      <th>172</th>\n",
       "      <td>5449463</td>\n",
       "      <td>2018-10-15</td>\n",
       "      <td>2330.0</td>\n",
       "      <td>1</td>\n",
       "      <td>Central</td>\n",
       "      <td>154</td>\n",
       "      <td>32</td>\n",
       "      <td>M</td>\n",
       "      <td>H</td>\n",
       "      <td>7.0</td>\n",
       "      <td>Vehicle Theft</td>\n",
       "      <td>F</td>\n",
       "      <td>10851(A)VC</td>\n",
       "      <td>TAKE VEHICLE W/O OWNER'S CONSENT</td>\n",
       "      <td>SPRING                       ST</td>\n",
       "      <td>6TH</td>\n",
       "      <td>(34.046, -118.2509)</td>\n",
       "      <td>34.0460</td>\n",
       "      <td>-118.2509</td>\n",
       "    </tr>\n",
       "    <tr>\n",
       "      <th>173</th>\n",
       "      <td>5452727</td>\n",
       "      <td>2018-10-19</td>\n",
       "      <td>1935.0</td>\n",
       "      <td>1</td>\n",
       "      <td>Central</td>\n",
       "      <td>100</td>\n",
       "      <td>26</td>\n",
       "      <td>M</td>\n",
       "      <td>B</td>\n",
       "      <td>7.0</td>\n",
       "      <td>Vehicle Theft</td>\n",
       "      <td>F</td>\n",
       "      <td>10851(A)VC</td>\n",
       "      <td>TAKE VEHICLE W/O OWNER'S CONSENT</td>\n",
       "      <td>8TH                          ST</td>\n",
       "      <td>LOS ANGELES</td>\n",
       "      <td>(34.0413, -118.2517)</td>\n",
       "      <td>34.0413</td>\n",
       "      <td>-118.2517</td>\n",
       "    </tr>\n",
       "  </tbody>\n",
       "</table>\n",
       "</div>"
      ],
      "text/plain": [
       "     Report ID Arrest Date    Time  Area ID Area Name  Reporting District  \\\n",
       "167    5449454  2018-10-15  2330.0        1   Central                 157   \n",
       "172    5449463  2018-10-15  2330.0        1   Central                 154   \n",
       "173    5452727  2018-10-19  1935.0        1   Central                 100   \n",
       "\n",
       "     Age Sex Code Descent Code  Charge Group Code Charge Group Description  \\\n",
       "167   43        M            H                7.0            Vehicle Theft   \n",
       "172   32        M            H                7.0            Vehicle Theft   \n",
       "173   26        M            B                7.0            Vehicle Theft   \n",
       "\n",
       "    Arrest Type Code      Charge                Charge Description  \\\n",
       "167                F  10851(A)VC  TAKE VEHICLE W/O OWNER'S CONSENT   \n",
       "172                F  10851(A)VC  TAKE VEHICLE W/O OWNER'S CONSENT   \n",
       "173                F  10851(A)VC  TAKE VEHICLE W/O OWNER'S CONSENT   \n",
       "\n",
       "                             Address Cross Street              Location  \\\n",
       "167                           SPRING          5TH   (34.0416, -118.244)   \n",
       "172  SPRING                       ST          6TH   (34.046, -118.2509)   \n",
       "173  8TH                          ST  LOS ANGELES  (34.0413, -118.2517)   \n",
       "\n",
       "         LAT      LONG  \n",
       "167  34.0416 -118.2440  \n",
       "172  34.0460 -118.2509  \n",
       "173  34.0413 -118.2517  "
      ]
     },
     "execution_count": 60,
     "metadata": {},
     "output_type": "execute_result"
    }
   ],
   "source": [
    "specific_charges = arrested_2018[\n",
    "    (arrested_2018['Charge Group Description'] == 'Vehicle Theft') |\n",
    "    (arrested_2018['Charge Group Description'] == 'Robbery') |\n",
    "    (arrested_2018['Charge Group Description'] == 'Burglary') |\n",
    "    (arrested_2018['Charge Group Description'] == 'Receive Stolen Property')\n",
    "]\n",
    "specific_charges.head(3)"
   ]
  },
  {
   "cell_type": "code",
   "execution_count": 12,
   "id": "6333720b",
   "metadata": {},
   "outputs": [
    {
     "data": {
      "text/plain": [
       "52.0"
      ]
     },
     "execution_count": 12,
     "metadata": {},
     "output_type": "execute_result"
    }
   ],
   "source": [
    "quantile_95p = specific_charges['Age'].quantile(0.95)\n",
    "quantile_95p"
   ]
  },
  {
   "cell_type": "markdown",
   "id": "ca7ff976",
   "metadata": {},
   "source": [
    "### Q4"
   ]
  },
  {
   "cell_type": "code",
   "execution_count": 13,
   "id": "5a17016d",
   "metadata": {},
   "outputs": [
    {
     "data": {
      "text/html": [
       "<div>\n",
       "<style scoped>\n",
       "    .dataframe tbody tr th:only-of-type {\n",
       "        vertical-align: middle;\n",
       "    }\n",
       "\n",
       "    .dataframe tbody tr th {\n",
       "        vertical-align: top;\n",
       "    }\n",
       "\n",
       "    .dataframe thead th {\n",
       "        text-align: right;\n",
       "    }\n",
       "</style>\n",
       "<table border=\"1\" class=\"dataframe\">\n",
       "  <thead>\n",
       "    <tr style=\"text-align: right;\">\n",
       "      <th></th>\n",
       "      <th>Report ID</th>\n",
       "      <th>Arrest Date</th>\n",
       "      <th>Time</th>\n",
       "      <th>Area ID</th>\n",
       "      <th>Area Name</th>\n",
       "      <th>Reporting District</th>\n",
       "      <th>Age</th>\n",
       "      <th>Sex Code</th>\n",
       "      <th>Descent Code</th>\n",
       "      <th>Charge Group Code</th>\n",
       "      <th>Charge Group Description</th>\n",
       "      <th>Arrest Type Code</th>\n",
       "      <th>Charge</th>\n",
       "      <th>Charge Description</th>\n",
       "      <th>Address</th>\n",
       "      <th>Cross Street</th>\n",
       "      <th>Location</th>\n",
       "      <th>LAT</th>\n",
       "      <th>LONG</th>\n",
       "    </tr>\n",
       "  </thead>\n",
       "  <tbody>\n",
       "    <tr>\n",
       "      <th>156</th>\n",
       "      <td>5213460</td>\n",
       "      <td>2018-01-24</td>\n",
       "      <td>1930.0</td>\n",
       "      <td>6</td>\n",
       "      <td>Hollywood</td>\n",
       "      <td>668</td>\n",
       "      <td>29</td>\n",
       "      <td>M</td>\n",
       "      <td>H</td>\n",
       "      <td>10.0</td>\n",
       "      <td>Fraud/Embezzlement</td>\n",
       "      <td>F</td>\n",
       "      <td>530.5(A)PC</td>\n",
       "      <td>GET CREDIT/ETC OTHER'S ID</td>\n",
       "      <td>ST ANDREWS</td>\n",
       "      <td>FOUNTAIN</td>\n",
       "      <td>(34.0949, -118.3109)</td>\n",
       "      <td>34.0949</td>\n",
       "      <td>-118.3109</td>\n",
       "    </tr>\n",
       "    <tr>\n",
       "      <th>157</th>\n",
       "      <td>5257944</td>\n",
       "      <td>2018-03-15</td>\n",
       "      <td>310.0</td>\n",
       "      <td>7</td>\n",
       "      <td>Wilshire</td>\n",
       "      <td>743</td>\n",
       "      <td>33</td>\n",
       "      <td>F</td>\n",
       "      <td>O</td>\n",
       "      <td>1.0</td>\n",
       "      <td>Homicide</td>\n",
       "      <td>F</td>\n",
       "      <td>191.5(B)PC</td>\n",
       "      <td>VEH MANSLAUGHTR/OPER VESSEL DUI &amp; DUR FEL</td>\n",
       "      <td>OLYMPIC</td>\n",
       "      <td>MASSELIN</td>\n",
       "      <td>(34.0574, -118.3547)</td>\n",
       "      <td>34.0574</td>\n",
       "      <td>-118.3547</td>\n",
       "    </tr>\n",
       "    <tr>\n",
       "      <th>158</th>\n",
       "      <td>5328813</td>\n",
       "      <td>2018-06-01</td>\n",
       "      <td>1800.0</td>\n",
       "      <td>3</td>\n",
       "      <td>Southwest</td>\n",
       "      <td>356</td>\n",
       "      <td>44</td>\n",
       "      <td>F</td>\n",
       "      <td>B</td>\n",
       "      <td>16.0</td>\n",
       "      <td>Narcotic Drug Laws</td>\n",
       "      <td>F</td>\n",
       "      <td>11379(A)HS</td>\n",
       "      <td>TRANSPORT/SELL CONTROLLED SUBSTANCE</td>\n",
       "      <td>1600 W  36TH                         PL</td>\n",
       "      <td>NaN</td>\n",
       "      <td>(34.0219, -118.3061)</td>\n",
       "      <td>34.0219</td>\n",
       "      <td>-118.3061</td>\n",
       "    </tr>\n",
       "    <tr>\n",
       "      <th>159</th>\n",
       "      <td>5336331</td>\n",
       "      <td>2018-06-10</td>\n",
       "      <td>200.0</td>\n",
       "      <td>13</td>\n",
       "      <td>Newton</td>\n",
       "      <td>1364</td>\n",
       "      <td>23</td>\n",
       "      <td>M</td>\n",
       "      <td>H</td>\n",
       "      <td>12.0</td>\n",
       "      <td>Weapon (carry/poss)</td>\n",
       "      <td>F</td>\n",
       "      <td>25400(A)2PC</td>\n",
       "      <td>CARRYING CONCEALED WEAPON UPON PERSON</td>\n",
       "      <td>1200 E  50TH                         ST</td>\n",
       "      <td>NaN</td>\n",
       "      <td>(33.998, -118.2543)</td>\n",
       "      <td>33.9980</td>\n",
       "      <td>-118.2543</td>\n",
       "    </tr>\n",
       "    <tr>\n",
       "      <th>160</th>\n",
       "      <td>5360731</td>\n",
       "      <td>2018-07-07</td>\n",
       "      <td>2330.0</td>\n",
       "      <td>18</td>\n",
       "      <td>Southeast</td>\n",
       "      <td>1832</td>\n",
       "      <td>32</td>\n",
       "      <td>M</td>\n",
       "      <td>B</td>\n",
       "      <td>12.0</td>\n",
       "      <td>Weapon (carry/poss)</td>\n",
       "      <td>F</td>\n",
       "      <td>29800(A)1PC</td>\n",
       "      <td>POSS F/ARM BY CONVICTED FELON/ADDICT/ETC</td>\n",
       "      <td>10700 S  MAIN                         ST</td>\n",
       "      <td>NaN</td>\n",
       "      <td>(33.9392, -118.2739)</td>\n",
       "      <td>33.9392</td>\n",
       "      <td>-118.2739</td>\n",
       "    </tr>\n",
       "  </tbody>\n",
       "</table>\n",
       "</div>"
      ],
      "text/plain": [
       "     Report ID Arrest Date    Time  Area ID  Area Name  Reporting District  \\\n",
       "156    5213460  2018-01-24  1930.0        6  Hollywood                 668   \n",
       "157    5257944  2018-03-15   310.0        7   Wilshire                 743   \n",
       "158    5328813  2018-06-01  1800.0        3  Southwest                 356   \n",
       "159    5336331  2018-06-10   200.0       13     Newton                1364   \n",
       "160    5360731  2018-07-07  2330.0       18  Southeast                1832   \n",
       "\n",
       "     Age Sex Code Descent Code  Charge Group Code Charge Group Description  \\\n",
       "156   29        M            H               10.0       Fraud/Embezzlement   \n",
       "157   33        F            O                1.0                 Homicide   \n",
       "158   44        F            B               16.0       Narcotic Drug Laws   \n",
       "159   23        M            H               12.0      Weapon (carry/poss)   \n",
       "160   32        M            B               12.0      Weapon (carry/poss)   \n",
       "\n",
       "    Arrest Type Code       Charge                         Charge Description  \\\n",
       "156                F   530.5(A)PC                  GET CREDIT/ETC OTHER'S ID   \n",
       "157                F   191.5(B)PC  VEH MANSLAUGHTR/OPER VESSEL DUI & DUR FEL   \n",
       "158                F   11379(A)HS        TRANSPORT/SELL CONTROLLED SUBSTANCE   \n",
       "159                F  25400(A)2PC      CARRYING CONCEALED WEAPON UPON PERSON   \n",
       "160                F  29800(A)1PC   POSS F/ARM BY CONVICTED FELON/ADDICT/ETC   \n",
       "\n",
       "                                      Address Cross Street  \\\n",
       "156                                ST ANDREWS     FOUNTAIN   \n",
       "157                                   OLYMPIC     MASSELIN   \n",
       "158   1600 W  36TH                         PL          NaN   \n",
       "159   1200 E  50TH                         ST          NaN   \n",
       "160  10700 S  MAIN                         ST          NaN   \n",
       "\n",
       "                 Location      LAT      LONG  \n",
       "156  (34.0949, -118.3109)  34.0949 -118.3109  \n",
       "157  (34.0574, -118.3547)  34.0574 -118.3547  \n",
       "158  (34.0219, -118.3061)  34.0219 -118.3061  \n",
       "159   (33.998, -118.2543)  33.9980 -118.2543  \n",
       "160  (33.9392, -118.2739)  33.9392 -118.2739  "
      ]
     },
     "execution_count": 13,
     "metadata": {},
     "output_type": "execute_result"
    }
   ],
   "source": [
    "charged_2018 = arrested_2018[(arrested_2018['Charge Group Description'] != 'nan') &\n",
    "                            (arrested_2018['Charge Group Description'] != 'Pre-Delinquency') & \n",
    "                            (arrested_2018['Charge Group Description'] != 'Non-Criminal Detention') & \n",
    "                            (arrested_2018['Charge Group Description'].notna()) &\n",
    "                            (arrested_2018['Charge Group Description'] != '')\n",
    "                            ]\n",
    "charged_2018.head()"
   ]
  },
  {
   "cell_type": "code",
   "execution_count": 14,
   "id": "a7262835",
   "metadata": {},
   "outputs": [
    {
     "data": {
      "text/plain": [
       "2.1279"
      ]
     },
     "execution_count": 14,
     "metadata": {},
     "output_type": "execute_result"
    }
   ],
   "source": [
    "average_ages = charged_2018.groupby('Charge Group Description')['Age'].mean()\n",
    "\n",
    "std_ages = average_ages.std()\n",
    "avg_ages = average_ages.mean()\n",
    "\n",
    "z_values = []\n",
    "\n",
    "for age in average_ages:\n",
    "    z_values.append((age - avg_ages) / std_ages)\n",
    "\n",
    "max_score = max(abs(z) for z in z_values)\n",
    "round(max_score, 4)"
   ]
  },
  {
   "cell_type": "markdown",
   "id": "1ad7ae56",
   "metadata": {},
   "source": [
    "### Q5"
   ]
  },
  {
   "cell_type": "code",
   "execution_count": 15,
   "id": "52c726f6",
   "metadata": {},
   "outputs": [
    {
     "data": {
      "text/html": [
       "<div>\n",
       "<style scoped>\n",
       "    .dataframe tbody tr th:only-of-type {\n",
       "        vertical-align: middle;\n",
       "    }\n",
       "\n",
       "    .dataframe tbody tr th {\n",
       "        vertical-align: top;\n",
       "    }\n",
       "\n",
       "    .dataframe thead th {\n",
       "        text-align: right;\n",
       "    }\n",
       "</style>\n",
       "<table border=\"1\" class=\"dataframe\">\n",
       "  <thead>\n",
       "    <tr style=\"text-align: right;\">\n",
       "      <th></th>\n",
       "      <th>Report ID</th>\n",
       "      <th>Arrest Date</th>\n",
       "      <th>Time</th>\n",
       "      <th>Area ID</th>\n",
       "      <th>Area Name</th>\n",
       "      <th>Reporting District</th>\n",
       "      <th>Age</th>\n",
       "      <th>Sex Code</th>\n",
       "      <th>Descent Code</th>\n",
       "      <th>Charge Group Code</th>\n",
       "      <th>Charge Group Description</th>\n",
       "      <th>Arrest Type Code</th>\n",
       "      <th>Charge</th>\n",
       "      <th>Charge Description</th>\n",
       "      <th>Address</th>\n",
       "      <th>Cross Street</th>\n",
       "      <th>Location</th>\n",
       "      <th>LAT</th>\n",
       "      <th>LONG</th>\n",
       "    </tr>\n",
       "  </thead>\n",
       "  <tbody>\n",
       "    <tr>\n",
       "      <th>156</th>\n",
       "      <td>5213460</td>\n",
       "      <td>2018-01-24</td>\n",
       "      <td>1930.0</td>\n",
       "      <td>6</td>\n",
       "      <td>Hollywood</td>\n",
       "      <td>668</td>\n",
       "      <td>29</td>\n",
       "      <td>M</td>\n",
       "      <td>H</td>\n",
       "      <td>10.0</td>\n",
       "      <td>Fraud/Embezzlement</td>\n",
       "      <td>F</td>\n",
       "      <td>530.5(A)PC</td>\n",
       "      <td>GET CREDIT/ETC OTHER'S ID</td>\n",
       "      <td>ST ANDREWS</td>\n",
       "      <td>FOUNTAIN</td>\n",
       "      <td>(34.0949, -118.3109)</td>\n",
       "      <td>34.0949</td>\n",
       "      <td>-118.3109</td>\n",
       "    </tr>\n",
       "    <tr>\n",
       "      <th>157</th>\n",
       "      <td>5257944</td>\n",
       "      <td>2018-03-15</td>\n",
       "      <td>310.0</td>\n",
       "      <td>7</td>\n",
       "      <td>Wilshire</td>\n",
       "      <td>743</td>\n",
       "      <td>33</td>\n",
       "      <td>F</td>\n",
       "      <td>O</td>\n",
       "      <td>1.0</td>\n",
       "      <td>Homicide</td>\n",
       "      <td>F</td>\n",
       "      <td>191.5(B)PC</td>\n",
       "      <td>VEH MANSLAUGHTR/OPER VESSEL DUI &amp; DUR FEL</td>\n",
       "      <td>OLYMPIC</td>\n",
       "      <td>MASSELIN</td>\n",
       "      <td>(34.0574, -118.3547)</td>\n",
       "      <td>34.0574</td>\n",
       "      <td>-118.3547</td>\n",
       "    </tr>\n",
       "    <tr>\n",
       "      <th>158</th>\n",
       "      <td>5328813</td>\n",
       "      <td>2018-06-01</td>\n",
       "      <td>1800.0</td>\n",
       "      <td>3</td>\n",
       "      <td>Southwest</td>\n",
       "      <td>356</td>\n",
       "      <td>44</td>\n",
       "      <td>F</td>\n",
       "      <td>B</td>\n",
       "      <td>16.0</td>\n",
       "      <td>Narcotic Drug Laws</td>\n",
       "      <td>F</td>\n",
       "      <td>11379(A)HS</td>\n",
       "      <td>TRANSPORT/SELL CONTROLLED SUBSTANCE</td>\n",
       "      <td>1600 W  36TH                         PL</td>\n",
       "      <td>NaN</td>\n",
       "      <td>(34.0219, -118.3061)</td>\n",
       "      <td>34.0219</td>\n",
       "      <td>-118.3061</td>\n",
       "    </tr>\n",
       "    <tr>\n",
       "      <th>159</th>\n",
       "      <td>5336331</td>\n",
       "      <td>2018-06-10</td>\n",
       "      <td>200.0</td>\n",
       "      <td>13</td>\n",
       "      <td>Newton</td>\n",
       "      <td>1364</td>\n",
       "      <td>23</td>\n",
       "      <td>M</td>\n",
       "      <td>H</td>\n",
       "      <td>12.0</td>\n",
       "      <td>Weapon (carry/poss)</td>\n",
       "      <td>F</td>\n",
       "      <td>25400(A)2PC</td>\n",
       "      <td>CARRYING CONCEALED WEAPON UPON PERSON</td>\n",
       "      <td>1200 E  50TH                         ST</td>\n",
       "      <td>NaN</td>\n",
       "      <td>(33.998, -118.2543)</td>\n",
       "      <td>33.9980</td>\n",
       "      <td>-118.2543</td>\n",
       "    </tr>\n",
       "    <tr>\n",
       "      <th>160</th>\n",
       "      <td>5360731</td>\n",
       "      <td>2018-07-07</td>\n",
       "      <td>2330.0</td>\n",
       "      <td>18</td>\n",
       "      <td>Southeast</td>\n",
       "      <td>1832</td>\n",
       "      <td>32</td>\n",
       "      <td>M</td>\n",
       "      <td>B</td>\n",
       "      <td>12.0</td>\n",
       "      <td>Weapon (carry/poss)</td>\n",
       "      <td>F</td>\n",
       "      <td>29800(A)1PC</td>\n",
       "      <td>POSS F/ARM BY CONVICTED FELON/ADDICT/ETC</td>\n",
       "      <td>10700 S  MAIN                         ST</td>\n",
       "      <td>NaN</td>\n",
       "      <td>(33.9392, -118.2739)</td>\n",
       "      <td>33.9392</td>\n",
       "      <td>-118.2739</td>\n",
       "    </tr>\n",
       "  </tbody>\n",
       "</table>\n",
       "</div>"
      ],
      "text/plain": [
       "     Report ID Arrest Date    Time  Area ID  Area Name  Reporting District  \\\n",
       "156    5213460  2018-01-24  1930.0        6  Hollywood                 668   \n",
       "157    5257944  2018-03-15   310.0        7   Wilshire                 743   \n",
       "158    5328813  2018-06-01  1800.0        3  Southwest                 356   \n",
       "159    5336331  2018-06-10   200.0       13     Newton                1364   \n",
       "160    5360731  2018-07-07  2330.0       18  Southeast                1832   \n",
       "\n",
       "     Age Sex Code Descent Code  Charge Group Code Charge Group Description  \\\n",
       "156   29        M            H               10.0       Fraud/Embezzlement   \n",
       "157   33        F            O                1.0                 Homicide   \n",
       "158   44        F            B               16.0       Narcotic Drug Laws   \n",
       "159   23        M            H               12.0      Weapon (carry/poss)   \n",
       "160   32        M            B               12.0      Weapon (carry/poss)   \n",
       "\n",
       "    Arrest Type Code       Charge                         Charge Description  \\\n",
       "156                F   530.5(A)PC                  GET CREDIT/ETC OTHER'S ID   \n",
       "157                F   191.5(B)PC  VEH MANSLAUGHTR/OPER VESSEL DUI & DUR FEL   \n",
       "158                F   11379(A)HS        TRANSPORT/SELL CONTROLLED SUBSTANCE   \n",
       "159                F  25400(A)2PC      CARRYING CONCEALED WEAPON UPON PERSON   \n",
       "160                F  29800(A)1PC   POSS F/ARM BY CONVICTED FELON/ADDICT/ETC   \n",
       "\n",
       "                                      Address Cross Street  \\\n",
       "156                                ST ANDREWS     FOUNTAIN   \n",
       "157                                   OLYMPIC     MASSELIN   \n",
       "158   1600 W  36TH                         PL          NaN   \n",
       "159   1200 E  50TH                         ST          NaN   \n",
       "160  10700 S  MAIN                         ST          NaN   \n",
       "\n",
       "                 Location      LAT      LONG  \n",
       "156  (34.0949, -118.3109)  34.0949 -118.3109  \n",
       "157  (34.0574, -118.3547)  34.0574 -118.3547  \n",
       "158  (34.0219, -118.3061)  34.0219 -118.3061  \n",
       "159   (33.998, -118.2543)  33.9980 -118.2543  \n",
       "160  (33.9392, -118.2739)  33.9392 -118.2739  "
      ]
     },
     "execution_count": 15,
     "metadata": {},
     "output_type": "execute_result"
    }
   ],
   "source": [
    "arrested_2018.head()"
   ]
  },
  {
   "cell_type": "code",
   "execution_count": null,
   "id": "9d12798f",
   "metadata": {},
   "outputs": [],
   "source": []
  },
  {
   "cell_type": "code",
   "execution_count": 16,
   "id": "135e9d7e",
   "metadata": {},
   "outputs": [],
   "source": [
    "changed_location = arrested_2018[(arrested_2018['LAT'] != 0) | (arrested_2018['LONG'] != 0)]"
   ]
  },
  {
   "cell_type": "code",
   "execution_count": 17,
   "id": "5c47f729",
   "metadata": {},
   "outputs": [],
   "source": [
    "def distanceEarth(lat, long):\n",
    "    original_lat, original_long = 34.050536, -118.247861\n",
    "    \n",
    "    del_lat = math.radians(original_lat - lat)\n",
    "    del_long = math.radians(original_long - long)\n",
    "    avg_lat = math.radians((original_lat + lat)) / 2\n",
    "    r = 6371\n",
    "    \n",
    "    distance = r * math.sqrt((del_lat * math.cos(del_long/2))** 2 + (2 *math.cos(avg_lat) * math.sin(del_long/2))** 2)\n",
    "\n",
    "    return round(distance, 2)\n"
   ]
  },
  {
   "cell_type": "code",
   "execution_count": 18,
   "id": "09284ed4",
   "metadata": {},
   "outputs": [],
   "source": [
    "changed_location['Distance'] = changed_location.apply(lambda row: distanceEarth(row['LAT'], row['LONG']), axis=1)"
   ]
  },
  {
   "cell_type": "code",
   "execution_count": 19,
   "id": "308bb954",
   "metadata": {},
   "outputs": [],
   "source": [
    "distance_2km = changed_location[changed_location['Distance'] <= 2]"
   ]
  },
  {
   "cell_type": "code",
   "execution_count": 20,
   "id": "d633d78c",
   "metadata": {},
   "outputs": [
    {
     "data": {
      "text/plain": [
       "11479"
      ]
     },
     "execution_count": 20,
     "metadata": {},
     "output_type": "execute_result"
    }
   ],
   "source": [
    "len(distance_2km)"
   ]
  },
  {
   "cell_type": "markdown",
   "id": "7e84313c",
   "metadata": {},
   "source": [
    "### Q6"
   ]
  },
  {
   "cell_type": "code",
   "execution_count": 21,
   "id": "1f602c6f",
   "metadata": {},
   "outputs": [],
   "source": [
    "picoList = dataset[dataset['Address'].str.contains('Pico', case=False, na=False)]"
   ]
  },
  {
   "cell_type": "code",
   "execution_count": 22,
   "id": "bcd2fb0a",
   "metadata": {},
   "outputs": [],
   "source": [
    "picoList = picoList[(picoList['LAT'] != 0) | (picoList['LONG'] != 0)]"
   ]
  },
  {
   "cell_type": "code",
   "execution_count": 99,
   "id": "1e4f284a",
   "metadata": {},
   "outputs": [],
   "source": [
    "def remove_outliers(lat, long):\n",
    "    lat_mean = picoList['LAT'].mean()\n",
    "    lat_std = picoList['LAT'].std()\n",
    "    long_mean = picoList['LONG'].mean()\n",
    "    long_std = picoList['LONG'].std()\n",
    "\n",
    "    lat_lower = lat_mean -2 *lat_std\n",
    "    lat_upper = lat_mean + 2 *lat_std\n",
    "    long_lower = long_mean - 2 *long_std\n",
    "    long_upper = long_mean +2 *long_std\n",
    "\n",
    "    lat_correct = lat_lower <= lat <= lat_upper\n",
    "    long_correct = long_lower <= long <= long_upper\n",
    "    \n",
    "    return lat_correct and long_correct\n",
    "\n"
   ]
  },
  {
   "cell_type": "code",
   "execution_count": 100,
   "id": "93dd2545",
   "metadata": {},
   "outputs": [],
   "source": [
    "picoList['isOutlier'] = picoList.apply(lambda row: remove_outliers(row['LAT'], row['LONG']), axis=1)"
   ]
  },
  {
   "cell_type": "code",
   "execution_count": 101,
   "id": "396d9338",
   "metadata": {},
   "outputs": [],
   "source": [
    "western_ind = picoList['LONG'].idxmin()\n",
    "eastern_ind = picoList['LONG'].idxmax()\n",
    "\n",
    "western_coord = (picoList.loc[most_western_ind, 'LAT'], picoList.loc[most_western_ind, 'LONG'])\n",
    "eastern_coord = (picoList.loc[most_eastern_ind, 'LAT'], picoList.loc[most_eastern_ind, 'LONG'])"
   ]
  },
  {
   "cell_type": "code",
   "execution_count": 102,
   "id": "3553a2d8",
   "metadata": {},
   "outputs": [
    {
     "data": {
      "text/plain": [
       "37.428634907513676"
      ]
     },
     "execution_count": 102,
     "metadata": {},
     "output_type": "execute_result"
    }
   ],
   "source": [
    "del_lat = math.radians(eastern_coord[0] - western_coord[0])\n",
    "del_long = math.radians(eastern_coord[1] - western_coord[1])\n",
    "avg_lat = math.radians((eastern_coord[0] + western_coord[0])) / 2\n",
    "\n",
    "r = 6371\n",
    "\n",
    "distance = r * math.sqrt((del_lat * math.cos(del_long/2))** 2 + (2 *math.cos(avg_lat) * math.sin(del_long/2))** 2)\n",
    "\n",
    "distance"
   ]
  },
  {
   "cell_type": "code",
   "execution_count": 27,
   "id": "b92038cc",
   "metadata": {},
   "outputs": [],
   "source": [
    "incident_on_Pico = len(picoList[(picoList['Arrest Date'] >= '2018-01-01') & (picoList['Arrest Date'] <= '2018-12-31')])"
   ]
  },
  {
   "cell_type": "code",
   "execution_count": 28,
   "id": "1301e84b",
   "metadata": {},
   "outputs": [
    {
     "data": {
      "text/plain": [
       "16.377834818574755"
      ]
     },
     "execution_count": 28,
     "metadata": {},
     "output_type": "execute_result"
    }
   ],
   "source": [
    "incident_on_Pico/distance"
   ]
  },
  {
   "cell_type": "markdown",
   "id": "d74eb41b",
   "metadata": {},
   "source": [
    "### Q7"
   ]
  },
  {
   "cell_type": "code",
   "execution_count": 103,
   "id": "e87ceca0",
   "metadata": {},
   "outputs": [
    {
     "name": "stdout",
     "output_type": "stream",
     "text": [
      "[nan, 3.0, 5.0, 4.0, 24.0, 18.0, 6.0, 17.0, 16.0, 20.0, 13.0, 19.0, 22.0, 21.0, 14.0, 10.0, 11.0, 8.0, 1.0, 12.0, 7.0, 15.0, 9.0, 23.0, 26.0, 2.0, 25.0, 29.0, 27.0, 99.0]\n"
     ]
    }
   ],
   "source": [
    "unique_val = dataset['Charge Group Code'].unique()\n",
    "unique_val_list = unique_val.tolist()\n",
    "print(unique_val_list)"
   ]
  },
  {
   "cell_type": "code",
   "execution_count": 61,
   "id": "a5f2e49a",
   "metadata": {},
   "outputs": [
    {
     "data": {
      "text/html": [
       "<div>\n",
       "<style scoped>\n",
       "    .dataframe tbody tr th:only-of-type {\n",
       "        vertical-align: middle;\n",
       "    }\n",
       "\n",
       "    .dataframe tbody tr th {\n",
       "        vertical-align: top;\n",
       "    }\n",
       "\n",
       "    .dataframe thead th {\n",
       "        text-align: right;\n",
       "    }\n",
       "</style>\n",
       "<table border=\"1\" class=\"dataframe\">\n",
       "  <thead>\n",
       "    <tr style=\"text-align: right;\">\n",
       "      <th></th>\n",
       "      <th>Report ID</th>\n",
       "      <th>Arrest Date</th>\n",
       "      <th>Time</th>\n",
       "      <th>Area ID</th>\n",
       "      <th>Area Name</th>\n",
       "      <th>Reporting District</th>\n",
       "      <th>Age</th>\n",
       "      <th>Sex Code</th>\n",
       "      <th>Descent Code</th>\n",
       "      <th>Charge Group Code</th>\n",
       "      <th>Charge Group Description</th>\n",
       "      <th>Arrest Type Code</th>\n",
       "      <th>Charge</th>\n",
       "      <th>Charge Description</th>\n",
       "      <th>Address</th>\n",
       "      <th>Cross Street</th>\n",
       "      <th>Location</th>\n",
       "      <th>LAT</th>\n",
       "      <th>LONG</th>\n",
       "    </tr>\n",
       "  </thead>\n",
       "  <tbody>\n",
       "    <tr>\n",
       "      <th>1</th>\n",
       "      <td>5614161</td>\n",
       "      <td>2019-04-29</td>\n",
       "      <td>1040.0</td>\n",
       "      <td>8</td>\n",
       "      <td>West LA</td>\n",
       "      <td>842</td>\n",
       "      <td>41</td>\n",
       "      <td>M</td>\n",
       "      <td>H</td>\n",
       "      <td>3.0</td>\n",
       "      <td>Robbery</td>\n",
       "      <td>F</td>\n",
       "      <td>211PC</td>\n",
       "      <td>ROBBERY</td>\n",
       "      <td>11600    WILSHIRE                     BL</td>\n",
       "      <td>NaN</td>\n",
       "      <td>(34.0508, -118.4592)</td>\n",
       "      <td>34.0508</td>\n",
       "      <td>-118.4592</td>\n",
       "    </tr>\n",
       "    <tr>\n",
       "      <th>2</th>\n",
       "      <td>5615197</td>\n",
       "      <td>2019-04-30</td>\n",
       "      <td>615.0</td>\n",
       "      <td>6</td>\n",
       "      <td>Hollywood</td>\n",
       "      <td>663</td>\n",
       "      <td>27</td>\n",
       "      <td>M</td>\n",
       "      <td>O</td>\n",
       "      <td>5.0</td>\n",
       "      <td>Burglary</td>\n",
       "      <td>F</td>\n",
       "      <td>459PC</td>\n",
       "      <td>BURGLARY</td>\n",
       "      <td>LA BREA</td>\n",
       "      <td>LEXINGTON</td>\n",
       "      <td>(34.0907, -118.3384)</td>\n",
       "      <td>34.0907</td>\n",
       "      <td>-118.3384</td>\n",
       "    </tr>\n",
       "    <tr>\n",
       "      <th>4</th>\n",
       "      <td>5615929</td>\n",
       "      <td>2019-04-30</td>\n",
       "      <td>1550.0</td>\n",
       "      <td>20</td>\n",
       "      <td>Olympic</td>\n",
       "      <td>2049</td>\n",
       "      <td>41</td>\n",
       "      <td>M</td>\n",
       "      <td>W</td>\n",
       "      <td>4.0</td>\n",
       "      <td>Aggravated Assault</td>\n",
       "      <td>F</td>\n",
       "      <td>245(A)(2)PC</td>\n",
       "      <td>ADW W/FIREARM</td>\n",
       "      <td>8TH                          ST</td>\n",
       "      <td>VERMONT</td>\n",
       "      <td>(34.0578, -118.2916)</td>\n",
       "      <td>34.0578</td>\n",
       "      <td>-118.2916</td>\n",
       "    </tr>\n",
       "  </tbody>\n",
       "</table>\n",
       "</div>"
      ],
      "text/plain": [
       "   Report ID Arrest Date    Time  Area ID  Area Name  Reporting District  Age  \\\n",
       "1    5614161  2019-04-29  1040.0        8    West LA                 842   41   \n",
       "2    5615197  2019-04-30   615.0        6  Hollywood                 663   27   \n",
       "4    5615929  2019-04-30  1550.0       20    Olympic                2049   41   \n",
       "\n",
       "  Sex Code Descent Code  Charge Group Code Charge Group Description  \\\n",
       "1        M            H                3.0                  Robbery   \n",
       "2        M            O                5.0                 Burglary   \n",
       "4        M            W                4.0       Aggravated Assault   \n",
       "\n",
       "  Arrest Type Code       Charge Charge Description  \\\n",
       "1                F        211PC            ROBBERY   \n",
       "2                F        459PC           BURGLARY   \n",
       "4                F  245(A)(2)PC      ADW W/FIREARM   \n",
       "\n",
       "                                    Address Cross Street  \\\n",
       "1  11600    WILSHIRE                     BL          NaN   \n",
       "2                                   LA BREA    LEXINGTON   \n",
       "4           8TH                          ST      VERMONT   \n",
       "\n",
       "               Location      LAT      LONG  \n",
       "1  (34.0508, -118.4592)  34.0508 -118.4592  \n",
       "2  (34.0907, -118.3384)  34.0907 -118.3384  \n",
       "4  (34.0578, -118.2916)  34.0578 -118.2916  "
      ]
     },
     "execution_count": 61,
     "metadata": {},
     "output_type": "execute_result"
    }
   ],
   "source": [
    "corrected_charge = dataset[dataset['Charge Group Code'].notna() & (dataset['Charge Group Code'] != 99.0)]\n",
    "corrected_charge.head(3)"
   ]
  },
  {
   "cell_type": "code",
   "execution_count": 112,
   "id": "64b0ba05",
   "metadata": {},
   "outputs": [],
   "source": [
    "totalArrestsCharge = corrected_charge['Charge Group Code'].value_counts()"
   ]
  },
  {
   "cell_type": "code",
   "execution_count": 113,
   "id": "3e323a95",
   "metadata": {},
   "outputs": [],
   "source": [
    "arrestsAreaCharge = corrected_charge.groupby(['Area ID', 'Charge Group Code']).size().reset_index(name='Count')"
   ]
  },
  {
   "cell_type": "code",
   "execution_count": 114,
   "id": "59857791",
   "metadata": {},
   "outputs": [],
   "source": [
    "arrestsAreaCharge['Cond_Prob'] = arrestsAreaCharge['Count']/arrestsAreaCharge.groupby('Area ID')['Count'].transform('sum')"
   ]
  },
  {
   "cell_type": "code",
   "execution_count": 115,
   "id": "e450d3bf",
   "metadata": {},
   "outputs": [
    {
     "data": {
      "text/html": [
       "<div>\n",
       "<style scoped>\n",
       "    .dataframe tbody tr th:only-of-type {\n",
       "        vertical-align: middle;\n",
       "    }\n",
       "\n",
       "    .dataframe tbody tr th {\n",
       "        vertical-align: top;\n",
       "    }\n",
       "\n",
       "    .dataframe thead th {\n",
       "        text-align: right;\n",
       "    }\n",
       "</style>\n",
       "<table border=\"1\" class=\"dataframe\">\n",
       "  <thead>\n",
       "    <tr style=\"text-align: right;\">\n",
       "      <th></th>\n",
       "      <th>Area ID</th>\n",
       "      <th>Charge Group Code</th>\n",
       "      <th>Count</th>\n",
       "      <th>Cond_Prob</th>\n",
       "    </tr>\n",
       "  </thead>\n",
       "  <tbody>\n",
       "    <tr>\n",
       "      <th>0</th>\n",
       "      <td>1</td>\n",
       "      <td>1.0</td>\n",
       "      <td>148</td>\n",
       "      <td>0.001193</td>\n",
       "    </tr>\n",
       "    <tr>\n",
       "      <th>1</th>\n",
       "      <td>1</td>\n",
       "      <td>2.0</td>\n",
       "      <td>215</td>\n",
       "      <td>0.001733</td>\n",
       "    </tr>\n",
       "    <tr>\n",
       "      <th>2</th>\n",
       "      <td>1</td>\n",
       "      <td>3.0</td>\n",
       "      <td>1723</td>\n",
       "      <td>0.013889</td>\n",
       "    </tr>\n",
       "  </tbody>\n",
       "</table>\n",
       "</div>"
      ],
      "text/plain": [
       "   Area ID  Charge Group Code  Count  Cond_Prob\n",
       "0        1                1.0    148   0.001193\n",
       "1        1                2.0    215   0.001733\n",
       "2        1                3.0   1723   0.013889"
      ]
     },
     "execution_count": 115,
     "metadata": {},
     "output_type": "execute_result"
    }
   ],
   "source": [
    "arrestsAreaCharge.head(3)"
   ]
  },
  {
   "cell_type": "code",
   "execution_count": 116,
   "id": "1c9cffb3",
   "metadata": {},
   "outputs": [
    {
     "data": {
      "text/plain": [
       "1222091"
      ]
     },
     "execution_count": 116,
     "metadata": {},
     "output_type": "execute_result"
    }
   ],
   "source": [
    "len(corrected_charge)"
   ]
  },
  {
   "cell_type": "code",
   "execution_count": 117,
   "id": "84ffd98a",
   "metadata": {},
   "outputs": [],
   "source": [
    "totalArrestsCharge = totalArrestsCharge.reset_index()\n",
    "totalArrestsCharge.columns = ['Charge Group Code', 'Count']\n",
    "totalArrestsCharge['Uncond_Prob'] = totalArrestsCharge['Count']/len(corrected_charge)"
   ]
  },
  {
   "cell_type": "code",
   "execution_count": 118,
   "id": "2ebc920c",
   "metadata": {},
   "outputs": [
    {
     "data": {
      "text/html": [
       "<div>\n",
       "<style scoped>\n",
       "    .dataframe tbody tr th:only-of-type {\n",
       "        vertical-align: middle;\n",
       "    }\n",
       "\n",
       "    .dataframe tbody tr th {\n",
       "        vertical-align: top;\n",
       "    }\n",
       "\n",
       "    .dataframe thead th {\n",
       "        text-align: right;\n",
       "    }\n",
       "</style>\n",
       "<table border=\"1\" class=\"dataframe\">\n",
       "  <thead>\n",
       "    <tr style=\"text-align: right;\">\n",
       "      <th></th>\n",
       "      <th>Charge Group Code</th>\n",
       "      <th>Count</th>\n",
       "      <th>Uncond_Prob</th>\n",
       "    </tr>\n",
       "  </thead>\n",
       "  <tbody>\n",
       "    <tr>\n",
       "      <th>0</th>\n",
       "      <td>24.0</td>\n",
       "      <td>242661</td>\n",
       "      <td>0.198562</td>\n",
       "    </tr>\n",
       "    <tr>\n",
       "      <th>1</th>\n",
       "      <td>16.0</td>\n",
       "      <td>162327</td>\n",
       "      <td>0.132827</td>\n",
       "    </tr>\n",
       "    <tr>\n",
       "      <th>2</th>\n",
       "      <td>22.0</td>\n",
       "      <td>120206</td>\n",
       "      <td>0.098361</td>\n",
       "    </tr>\n",
       "  </tbody>\n",
       "</table>\n",
       "</div>"
      ],
      "text/plain": [
       "   Charge Group Code   Count  Uncond_Prob\n",
       "0               24.0  242661     0.198562\n",
       "1               16.0  162327     0.132827\n",
       "2               22.0  120206     0.098361"
      ]
     },
     "execution_count": 118,
     "metadata": {},
     "output_type": "execute_result"
    }
   ],
   "source": [
    "totalArrestsCharge.head(3)"
   ]
  },
  {
   "cell_type": "code",
   "execution_count": 119,
   "id": "206779c6",
   "metadata": {},
   "outputs": [],
   "source": [
    "merged_data = pd.merge(arrestsAreaCharge, totalArrestsCharge, on='Charge Group Code')\n",
    "merged_data['Ratio'] = merged_data['Cond_Prob']/merged_data['Uncond_Prob']"
   ]
  },
  {
   "cell_type": "code",
   "execution_count": 120,
   "id": "8dc0ee38",
   "metadata": {},
   "outputs": [
    {
     "data": {
      "text/html": [
       "<div>\n",
       "<style scoped>\n",
       "    .dataframe tbody tr th:only-of-type {\n",
       "        vertical-align: middle;\n",
       "    }\n",
       "\n",
       "    .dataframe tbody tr th {\n",
       "        vertical-align: top;\n",
       "    }\n",
       "\n",
       "    .dataframe thead th {\n",
       "        text-align: right;\n",
       "    }\n",
       "</style>\n",
       "<table border=\"1\" class=\"dataframe\">\n",
       "  <thead>\n",
       "    <tr style=\"text-align: right;\">\n",
       "      <th></th>\n",
       "      <th>Area ID</th>\n",
       "      <th>Charge Group Code</th>\n",
       "      <th>Count_x</th>\n",
       "      <th>Cond_Prob</th>\n",
       "      <th>Count_y</th>\n",
       "      <th>Uncond_Prob</th>\n",
       "      <th>Ratio</th>\n",
       "    </tr>\n",
       "  </thead>\n",
       "  <tbody>\n",
       "    <tr>\n",
       "      <th>0</th>\n",
       "      <td>1</td>\n",
       "      <td>1.0</td>\n",
       "      <td>148</td>\n",
       "      <td>0.001193</td>\n",
       "      <td>2449</td>\n",
       "      <td>0.002004</td>\n",
       "      <td>0.595322</td>\n",
       "    </tr>\n",
       "    <tr>\n",
       "      <th>1</th>\n",
       "      <td>1</td>\n",
       "      <td>2.0</td>\n",
       "      <td>215</td>\n",
       "      <td>0.001733</td>\n",
       "      <td>2983</td>\n",
       "      <td>0.002441</td>\n",
       "      <td>0.710009</td>\n",
       "    </tr>\n",
       "    <tr>\n",
       "      <th>2</th>\n",
       "      <td>1</td>\n",
       "      <td>3.0</td>\n",
       "      <td>1723</td>\n",
       "      <td>0.013889</td>\n",
       "      <td>26697</td>\n",
       "      <td>0.021845</td>\n",
       "      <td>0.635772</td>\n",
       "    </tr>\n",
       "  </tbody>\n",
       "</table>\n",
       "</div>"
      ],
      "text/plain": [
       "   Area ID  Charge Group Code  Count_x  Cond_Prob  Count_y  Uncond_Prob  \\\n",
       "0        1                1.0      148   0.001193     2449     0.002004   \n",
       "1        1                2.0      215   0.001733     2983     0.002441   \n",
       "2        1                3.0     1723   0.013889    26697     0.021845   \n",
       "\n",
       "      Ratio  \n",
       "0  0.595322  \n",
       "1  0.710009  \n",
       "2  0.635772  "
      ]
     },
     "execution_count": 120,
     "metadata": {},
     "output_type": "execute_result"
    }
   ],
   "source": [
    "merged_data.head(3)"
   ]
  },
  {
   "cell_type": "code",
   "execution_count": 122,
   "id": "e99a3391",
   "metadata": {},
   "outputs": [
    {
     "data": {
      "text/plain": [
       "3.4766713648060468"
      ]
     },
     "execution_count": 122,
     "metadata": {},
     "output_type": "execute_result"
    }
   ],
   "source": [
    "top5Ratios = merged_data.nlargest(5, 'Ratio')\n",
    "top5Ratios['Ratio'].mean()"
   ]
  },
  {
   "cell_type": "code",
   "execution_count": null,
   "id": "859de896",
   "metadata": {},
   "outputs": [],
   "source": []
  },
  {
   "cell_type": "markdown",
   "id": "e00c3fba",
   "metadata": {},
   "source": [
    "### Q8"
   ]
  },
  {
   "cell_type": "code",
   "execution_count": 148,
   "id": "d8cd7c6b",
   "metadata": {},
   "outputs": [],
   "source": [
    "felony_crime = dataset[dataset['Charge Description'].str.contains('Felony', case=False, na=False)]"
   ]
  },
  {
   "cell_type": "code",
   "execution_count": 149,
   "id": "201413d6",
   "metadata": {},
   "outputs": [
    {
     "data": {
      "text/html": [
       "<div>\n",
       "<style scoped>\n",
       "    .dataframe tbody tr th:only-of-type {\n",
       "        vertical-align: middle;\n",
       "    }\n",
       "\n",
       "    .dataframe tbody tr th {\n",
       "        vertical-align: top;\n",
       "    }\n",
       "\n",
       "    .dataframe thead th {\n",
       "        text-align: right;\n",
       "    }\n",
       "</style>\n",
       "<table border=\"1\" class=\"dataframe\">\n",
       "  <thead>\n",
       "    <tr style=\"text-align: right;\">\n",
       "      <th></th>\n",
       "      <th>Report ID</th>\n",
       "      <th>Arrest Date</th>\n",
       "      <th>Time</th>\n",
       "      <th>Area ID</th>\n",
       "      <th>Area Name</th>\n",
       "      <th>Reporting District</th>\n",
       "      <th>Age</th>\n",
       "      <th>Sex Code</th>\n",
       "      <th>Descent Code</th>\n",
       "      <th>Charge Group Code</th>\n",
       "      <th>Charge Group Description</th>\n",
       "      <th>Arrest Type Code</th>\n",
       "      <th>Charge</th>\n",
       "      <th>Charge Description</th>\n",
       "      <th>Address</th>\n",
       "      <th>Cross Street</th>\n",
       "      <th>Location</th>\n",
       "      <th>LAT</th>\n",
       "      <th>LONG</th>\n",
       "    </tr>\n",
       "  </thead>\n",
       "  <tbody>\n",
       "    <tr>\n",
       "      <th>580</th>\n",
       "      <td>5596594</td>\n",
       "      <td>2019-04-10</td>\n",
       "      <td>1150.0</td>\n",
       "      <td>1</td>\n",
       "      <td>Central</td>\n",
       "      <td>127</td>\n",
       "      <td>46</td>\n",
       "      <td>M</td>\n",
       "      <td>B</td>\n",
       "      <td>24.0</td>\n",
       "      <td>Miscellaneous Other Violations</td>\n",
       "      <td>F</td>\n",
       "      <td>3056PC</td>\n",
       "      <td>VIOLATION OF PAROLE:FELONY</td>\n",
       "      <td>100 N  LOS ANGELES                  ST</td>\n",
       "      <td>NaN</td>\n",
       "      <td>(34.0515, -118.2424)</td>\n",
       "      <td>34.0515</td>\n",
       "      <td>-118.2424</td>\n",
       "    </tr>\n",
       "    <tr>\n",
       "      <th>611</th>\n",
       "      <td>5597587</td>\n",
       "      <td>2019-04-11</td>\n",
       "      <td>1045.0</td>\n",
       "      <td>1</td>\n",
       "      <td>Central</td>\n",
       "      <td>158</td>\n",
       "      <td>31</td>\n",
       "      <td>M</td>\n",
       "      <td>H</td>\n",
       "      <td>24.0</td>\n",
       "      <td>Miscellaneous Other Violations</td>\n",
       "      <td>F</td>\n",
       "      <td>3056PC</td>\n",
       "      <td>VIOLATION OF PAROLE:FELONY</td>\n",
       "      <td>7TH</td>\n",
       "      <td>CERES</td>\n",
       "      <td>(34.038, -118.243)</td>\n",
       "      <td>34.0380</td>\n",
       "      <td>-118.2430</td>\n",
       "    </tr>\n",
       "    <tr>\n",
       "      <th>702</th>\n",
       "      <td>5601042</td>\n",
       "      <td>2019-04-15</td>\n",
       "      <td>1115.0</td>\n",
       "      <td>6</td>\n",
       "      <td>Hollywood</td>\n",
       "      <td>656</td>\n",
       "      <td>30</td>\n",
       "      <td>M</td>\n",
       "      <td>B</td>\n",
       "      <td>24.0</td>\n",
       "      <td>Miscellaneous Other Violations</td>\n",
       "      <td>F</td>\n",
       "      <td>3056PC</td>\n",
       "      <td>VIOLATION OF PAROLE:FELONY</td>\n",
       "      <td>WILLOUGHBY</td>\n",
       "      <td>VINE</td>\n",
       "      <td>(34.0871, -118.3266)</td>\n",
       "      <td>34.0871</td>\n",
       "      <td>-118.3266</td>\n",
       "    </tr>\n",
       "  </tbody>\n",
       "</table>\n",
       "</div>"
      ],
      "text/plain": [
       "     Report ID Arrest Date    Time  Area ID  Area Name  Reporting District  \\\n",
       "580    5596594  2019-04-10  1150.0        1    Central                 127   \n",
       "611    5597587  2019-04-11  1045.0        1    Central                 158   \n",
       "702    5601042  2019-04-15  1115.0        6  Hollywood                 656   \n",
       "\n",
       "     Age Sex Code Descent Code  Charge Group Code  \\\n",
       "580   46        M            B               24.0   \n",
       "611   31        M            H               24.0   \n",
       "702   30        M            B               24.0   \n",
       "\n",
       "           Charge Group Description Arrest Type Code  Charge  \\\n",
       "580  Miscellaneous Other Violations                F  3056PC   \n",
       "611  Miscellaneous Other Violations                F  3056PC   \n",
       "702  Miscellaneous Other Violations                F  3056PC   \n",
       "\n",
       "             Charge Description                                 Address  \\\n",
       "580  VIOLATION OF PAROLE:FELONY  100 N  LOS ANGELES                  ST   \n",
       "611  VIOLATION OF PAROLE:FELONY                                     7TH   \n",
       "702  VIOLATION OF PAROLE:FELONY                              WILLOUGHBY   \n",
       "\n",
       "    Cross Street              Location      LAT      LONG  \n",
       "580          NaN  (34.0515, -118.2424)  34.0515 -118.2424  \n",
       "611        CERES    (34.038, -118.243)  34.0380 -118.2430  \n",
       "702         VINE  (34.0871, -118.3266)  34.0871 -118.3266  "
      ]
     },
     "execution_count": 149,
     "metadata": {},
     "output_type": "execute_result"
    }
   ],
   "source": [
    "felony_crime.head(3)"
   ]
  },
  {
   "cell_type": "code",
   "execution_count": null,
   "id": "71fccc9e",
   "metadata": {},
   "outputs": [],
   "source": []
  },
  {
   "cell_type": "code",
   "execution_count": null,
   "id": "6d535b17",
   "metadata": {},
   "outputs": [],
   "source": []
  },
  {
   "cell_type": "code",
   "execution_count": null,
   "id": "bb8a734e",
   "metadata": {},
   "outputs": [],
   "source": [
    "\n"
   ]
  },
  {
   "cell_type": "code",
   "execution_count": null,
   "id": "b2c1d32f",
   "metadata": {},
   "outputs": [],
   "source": []
  },
  {
   "cell_type": "code",
   "execution_count": null,
   "id": "6bd85262",
   "metadata": {},
   "outputs": [],
   "source": []
  },
  {
   "cell_type": "code",
   "execution_count": null,
   "id": "2a55b1ed",
   "metadata": {},
   "outputs": [],
   "source": []
  },
  {
   "cell_type": "code",
   "execution_count": null,
   "id": "8f226489",
   "metadata": {},
   "outputs": [],
   "source": []
  },
  {
   "cell_type": "code",
   "execution_count": null,
   "id": "f1799d16",
   "metadata": {},
   "outputs": [],
   "source": []
  },
  {
   "cell_type": "code",
   "execution_count": null,
   "id": "e8210ffa",
   "metadata": {},
   "outputs": [],
   "source": []
  },
  {
   "cell_type": "code",
   "execution_count": null,
   "id": "a34140c8",
   "metadata": {},
   "outputs": [],
   "source": []
  }
 ],
 "metadata": {
  "kernelspec": {
   "display_name": "Python 3 (ipykernel)",
   "language": "python",
   "name": "python3"
  },
  "language_info": {
   "codemirror_mode": {
    "name": "ipython",
    "version": 3
   },
   "file_extension": ".py",
   "mimetype": "text/x-python",
   "name": "python",
   "nbconvert_exporter": "python",
   "pygments_lexer": "ipython3",
   "version": "3.11.3"
  }
 },
 "nbformat": 4,
 "nbformat_minor": 5
}
